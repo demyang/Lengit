{
 "cells": [
  {
   "cell_type": "code",
   "execution_count": 1,
   "metadata": {},
   "outputs": [],
   "source": [
    "import pandas as pd"
   ]
  },
  {
   "cell_type": "markdown",
   "metadata": {},
   "source": [
    "*Задачи*\n",
    "Импортируйте библиотеку pandas как pd. Загрузите два датасета user_data и logs. Проверьте размер таблицы, типы переменных, наличие пропущенных значений, описательную статистику.\n",
    "Какой клиент совершил больше всего успешных операций? (success == True)\n",
    "С какой платформы осуществляется наибольшее количество успешных операций?\n",
    "Какую платформу предпочитают премиальные клиенты?\n",
    "Визуализируйте распределение возраста клиентов в зависимости от типа клиента (премиум или нет)\n",
    "Постройте график распределения числа успешных операций\n",
    "Визуализируйте число успешных операций, сделанных на платформе computer, в зависимости от возраста, используя sns.countplot (x – возраст, y – число успешных операций). Клиенты какого возраста совершили наибольшее количество успешных действий?\n",
    " \n",
    "\n",
    "Описание данных\n",
    "user_data:\n",
    "\n",
    "client – идентификатор пользователя\n",
    "premium – является ли клиент премиальным\n",
    "age – возраст\n",
    "logs:\n",
    "\n",
    "client – идентификатор пользователя\n",
    "success – результат (успех – 1, нет – 0)\n",
    "platform – платформа\n",
    "time – время в формате Unixl"
   ]
  },
  {
   "cell_type": "code",
   "execution_count": 2,
   "metadata": {},
   "outputs": [],
   "source": [
    "us = pd.read_csv(\n",
    "    'https://stepik.org/media/attachments/lesson/360348/user_data.csv')"
   ]
  },
  {
   "cell_type": "code",
   "execution_count": 3,
   "metadata": {},
   "outputs": [
    {
     "data": {
      "text/html": [
       "<div>\n",
       "<style scoped>\n",
       "    .dataframe tbody tr th:only-of-type {\n",
       "        vertical-align: middle;\n",
       "    }\n",
       "\n",
       "    .dataframe tbody tr th {\n",
       "        vertical-align: top;\n",
       "    }\n",
       "\n",
       "    .dataframe thead th {\n",
       "        text-align: right;\n",
       "    }\n",
       "</style>\n",
       "<table border=\"1\" class=\"dataframe\">\n",
       "  <thead>\n",
       "    <tr style=\"text-align: right;\">\n",
       "      <th></th>\n",
       "      <th>client</th>\n",
       "      <th>premium</th>\n",
       "      <th>age</th>\n",
       "    </tr>\n",
       "  </thead>\n",
       "  <tbody>\n",
       "    <tr>\n",
       "      <th>0</th>\n",
       "      <td>46346</td>\n",
       "      <td>False</td>\n",
       "      <td>58</td>\n",
       "    </tr>\n",
       "    <tr>\n",
       "      <th>1</th>\n",
       "      <td>4391</td>\n",
       "      <td>False</td>\n",
       "      <td>55</td>\n",
       "    </tr>\n",
       "    <tr>\n",
       "      <th>2</th>\n",
       "      <td>27372</td>\n",
       "      <td>False</td>\n",
       "      <td>64</td>\n",
       "    </tr>\n",
       "    <tr>\n",
       "      <th>3</th>\n",
       "      <td>11989</td>\n",
       "      <td>False</td>\n",
       "      <td>44</td>\n",
       "    </tr>\n",
       "    <tr>\n",
       "      <th>4</th>\n",
       "      <td>60664</td>\n",
       "      <td>False</td>\n",
       "      <td>49</td>\n",
       "    </tr>\n",
       "    <tr>\n",
       "      <th>...</th>\n",
       "      <td>...</td>\n",
       "      <td>...</td>\n",
       "      <td>...</td>\n",
       "    </tr>\n",
       "    <tr>\n",
       "      <th>2949</th>\n",
       "      <td>19411</td>\n",
       "      <td>False</td>\n",
       "      <td>29</td>\n",
       "    </tr>\n",
       "    <tr>\n",
       "      <th>2950</th>\n",
       "      <td>61579</td>\n",
       "      <td>False</td>\n",
       "      <td>50</td>\n",
       "    </tr>\n",
       "    <tr>\n",
       "      <th>2951</th>\n",
       "      <td>61221</td>\n",
       "      <td>True</td>\n",
       "      <td>64</td>\n",
       "    </tr>\n",
       "    <tr>\n",
       "      <th>2952</th>\n",
       "      <td>29863</td>\n",
       "      <td>False</td>\n",
       "      <td>46</td>\n",
       "    </tr>\n",
       "    <tr>\n",
       "      <th>2953</th>\n",
       "      <td>78499</td>\n",
       "      <td>False</td>\n",
       "      <td>36</td>\n",
       "    </tr>\n",
       "  </tbody>\n",
       "</table>\n",
       "<p>2954 rows × 3 columns</p>\n",
       "</div>"
      ],
      "text/plain": [
       "      client  premium  age\n",
       "0      46346    False   58\n",
       "1       4391    False   55\n",
       "2      27372    False   64\n",
       "3      11989    False   44\n",
       "4      60664    False   49\n",
       "...      ...      ...  ...\n",
       "2949   19411    False   29\n",
       "2950   61579    False   50\n",
       "2951   61221     True   64\n",
       "2952   29863    False   46\n",
       "2953   78499    False   36\n",
       "\n",
       "[2954 rows x 3 columns]"
      ]
     },
     "execution_count": 3,
     "metadata": {},
     "output_type": "execute_result"
    }
   ],
   "source": [
    "us.sort_index()"
   ]
  },
  {
   "cell_type": "code",
   "execution_count": 8,
   "metadata": {},
   "outputs": [],
   "source": [
    "lg = pd.read_csv('https://stepik.org/media/attachments/lesson/360348/logs.csv')"
   ]
  },
  {
   "cell_type": "code",
   "execution_count": 16,
   "metadata": {},
   "outputs": [
    {
     "data": {
      "text/html": [
       "<div>\n",
       "<style scoped>\n",
       "    .dataframe tbody tr th:only-of-type {\n",
       "        vertical-align: middle;\n",
       "    }\n",
       "\n",
       "    .dataframe tbody tr th {\n",
       "        vertical-align: top;\n",
       "    }\n",
       "\n",
       "    .dataframe thead th {\n",
       "        text-align: right;\n",
       "    }\n",
       "</style>\n",
       "<table border=\"1\" class=\"dataframe\">\n",
       "  <thead>\n",
       "    <tr style=\"text-align: right;\">\n",
       "      <th></th>\n",
       "      <th>client</th>\n",
       "      <th>success</th>\n",
       "      <th>platform</th>\n",
       "      <th>time</th>\n",
       "    </tr>\n",
       "  </thead>\n",
       "  <tbody>\n",
       "    <tr>\n",
       "      <th>0</th>\n",
       "      <td>40177</td>\n",
       "      <td>True</td>\n",
       "      <td>phone</td>\n",
       "      <td>1970-01-01 00:00:01.585412212</td>\n",
       "    </tr>\n",
       "    <tr>\n",
       "      <th>1</th>\n",
       "      <td>61468</td>\n",
       "      <td>True</td>\n",
       "      <td>phone</td>\n",
       "      <td>1970-01-01 00:00:01.585425658</td>\n",
       "    </tr>\n",
       "    <tr>\n",
       "      <th>2</th>\n",
       "      <td>35604</td>\n",
       "      <td>False</td>\n",
       "      <td>phone</td>\n",
       "      <td>1970-01-01 00:00:01.585459894</td>\n",
       "    </tr>\n",
       "    <tr>\n",
       "      <th>3</th>\n",
       "      <td>9961</td>\n",
       "      <td>True</td>\n",
       "      <td>phone</td>\n",
       "      <td>1970-01-01 00:00:01.585400189</td>\n",
       "    </tr>\n",
       "    <tr>\n",
       "      <th>4</th>\n",
       "      <td>10931</td>\n",
       "      <td>True</td>\n",
       "      <td>computer</td>\n",
       "      <td>1970-01-01 00:00:01.585468629</td>\n",
       "    </tr>\n",
       "  </tbody>\n",
       "</table>\n",
       "</div>"
      ],
      "text/plain": [
       "   client  success  platform                          time\n",
       "0   40177     True     phone 1970-01-01 00:00:01.585412212\n",
       "1   61468     True     phone 1970-01-01 00:00:01.585425658\n",
       "2   35604    False     phone 1970-01-01 00:00:01.585459894\n",
       "3    9961     True     phone 1970-01-01 00:00:01.585400189\n",
       "4   10931     True  computer 1970-01-01 00:00:01.585468629"
      ]
     },
     "execution_count": 16,
     "metadata": {},
     "output_type": "execute_result"
    }
   ],
   "source": [
    "lg['time'] = pd.to_datetime(lg['time'])\n",
    "lg.head()"
   ]
  },
  {
   "cell_type": "markdown",
   "metadata": {},
   "source": [
    "Импортируйте библиотеку pandas как pd. Загрузите два датасета user_data и logs. Проверьте размер таблицы, типы переменных, посмотрите на описательную статистику. \n",
    "\n",
    "Вопрос: Сколько уникальных значений принимает переменная platform?   -\n",
    " \n",
    " **Где взять данные?**\n",
    "    \n",
    "    Краткое напоминание - данные лежат на сервере в папках соответствующих уроку в `/shared/homeworks/python_ds_miniprojects`, либо их можно скачать по ссылке на 1-ом стэпе этой части упражнений\n",
    "    \n",
    "- **Как узнать число строк и столбцов в таблице**\n",
    "    \n",
    "    Чтобы узнать размер таблицы (датафрэйма), нужно обратиться к атрибуту `shape`\n",
    "    \n",
    "- **А что есть что в ответе от** `shape`**?**\n",
    "    \n",
    "    `shape` возвращает кортеж (упрощённый список, относитесь к нему, как к списку), где сначала идёт число строк, а потом число колонок\n",
    "    \n",
    "- **Как выяснить типы колонок?**\n",
    "    \n",
    "    Для этого нужен атрибут `dtypes`\n",
    "    \n",
    "- **Краткая сводка**\n",
    "    \n",
    "    Чтобы быстро взглянуть на информацию о распределении данных, можно использовать метод `describe`, например,\n",
    "    \n",
    "    ```python\n",
    "    df.describe()\n",
    "    ```\n",
    "    \n",
    "    Выведет эту информацию для колонок `df`\n",
    "    \n",
    "- **Подсчёт числа уникальных значений**\n",
    "    \n",
    "    Используйте метод `nunique`, чтобы получить число уникальных значений для каждой колонки датафрэйма\n",
    "    \n",
    "- **Посмотреть разбор**\n",
    "    \n",
    "    Посмотреть разбор задания можно по ссылке [https://youtu.be/Xkxdes5EdAk](https://youtu.be/Xkxdes5EdAk)"
   ]
  },
  {
   "cell_type": "code",
   "execution_count": 19,
   "metadata": {},
   "outputs": [
    {
     "data": {
      "text/plain": [
       "3"
      ]
     },
     "execution_count": 19,
     "metadata": {},
     "output_type": "execute_result"
    }
   ],
   "source": [
    "lg.platform.nunique()"
   ]
  },
  {
   "cell_type": "markdown",
   "metadata": {},
   "source": [
    "Какой клиент совершил больше всего успешных операций?\n",
    "\n",
    "Если несколько пользователей совершили одинаковое число успешных действий, перечислите их идентификаторы (client) через запятую и пробел в порядке возрастания. Например:\n",
    "\n",
    "12, 123, 456\n",
    "- **Как решить это задание?**\n",
    "    \n",
    "    Отберите успешные операции с помощью `query`, проведите группировку по клиентам, и посчитайте для каждого клиента число успешных операций с помощью `count`. Далее найдите максимальное значение и отберите всех клиентов с таким числом операций. После этого отсортируйте их `id` по возрастанию\n",
    "    \n",
    "- **Как понять, что операция успешна?**\n",
    "    \n",
    "    В колонке `success` будет `True`)\n",
    "    \n",
    "- **Как делать группировку?**\n",
    "    \n",
    "    Для этого существует метод `groupby` - его вызов группирует строки по значениям в какой-то колонке (или комбинации значений из нескольких колонок). Например\n",
    "    \n",
    "    ```python\n",
    "    df.groupby('pickup_month')\n",
    "    ```\n",
    "    \n",
    "    Сгруппирует данные датафрэйма `df` по колонке `pickup_month` - то есть строки с месяцем январь в колонке `pickup_month` будут в отдельной колонке от строк с месяцем май. Сама по себе группировка не вычисляет что-то по группам\n",
    "    \n",
    "- **Как сделать агрегацию?**\n",
    "    \n",
    "    Метод `agg` принимает словарь, где в качестве ключей указаны названия колонок, а значениями являются функции, которые нужно применить к колонке-ключу в каждой группе. К примеру, этот код\n",
    "    \n",
    "    ```python\n",
    "    df.groupby('pickup_month') \\\n",
    "    .agg({'temp': 'sum'})\n",
    "    ```\n",
    "    \n",
    "    Сгруппирует строки по значению в колонке `pickup_month` (месяц поездки) и посчитает в каждой группе сумму по колонке `temp`\n",
    "    \n",
    "- **Взятие максимума**\n",
    "    \n",
    "    Для этого используется метод `max`, который возвращает максимальное значение для каждой колонки в датафрэйме\n",
    "    \n",
    "- **Сортировка датафрэйма**\n",
    "    \n",
    "    Для сортировки датафрэйма используется метод `sort_values`. Он принимает название колонки, по которой будет идти сортировка. К примеру,\n",
    "    \n",
    "    ```python\n",
    "    df.sort_values('temp')\n",
    "    ```\n",
    "    \n",
    "    Сортирует строки по колонке `temp`\n",
    "    \n",
    "- **Сортировка серии**\n",
    "    \n",
    "    Если у вас серия, то при её сортировке не указывайте ничего в аргументах (так как есть только одни значения, по которым можно сортировать). Например,\n",
    "    \n",
    "    ```python\n",
    "    series.sort_values()\n",
    "    ```\n",
    "    \n",
    "    отсортирует `series`\n",
    "    \n",
    "- **Посмотреть разбор**\n",
    "    \n",
    "    Посмотреть разбор задания можно по ссылке [https://youtu.be/Y0HaHwsJCD4](https://youtu.be/Y0HaHwsJCD4)"
   ]
  },
  {
   "cell_type": "code",
   "execution_count": 70,
   "metadata": {},
   "outputs": [],
   "source": [
    "success_number = lg.groupby('client',as_index=False)\\\n",
    "                    .agg({'success': 'sum'})\\\n",
    "                    .rename(columns={'success': 'success_number'})\\\n",
    "                    .sort_values('success_number',ascending=False)\n",
    "                    "
   ]
  },
  {
   "cell_type": "code",
   "execution_count": 71,
   "metadata": {},
   "outputs": [],
   "source": [
    "maximum_success = success_number.success_number.max()"
   ]
  },
  {
   "cell_type": "code",
   "execution_count": 79,
   "metadata": {},
   "outputs": [],
   "source": [
    "success_client = success_number.query('success_number == @maximum_success')\\\n",
    "                                .sort_values('client')\\\n",
    "                                .client\\\n",
    "                                .tolist()             "
   ]
  },
  {
   "cell_type": "code",
   "execution_count": 81,
   "metadata": {},
   "outputs": [
    {
     "data": {
      "text/plain": [
       "[12179, 28719, 36165, 52870, 61468, 61473, 78349, 82563, 92584]"
      ]
     },
     "execution_count": 81,
     "metadata": {},
     "output_type": "execute_result"
    }
   ],
   "source": [
    "success_client"
   ]
  },
  {
   "cell_type": "code",
   "execution_count": 82,
   "metadata": {},
   "outputs": [
    {
     "data": {
      "text/plain": [
       "'12179, 28719, 36165, 52870, 61468, 61473, 78349, 82563, 92584'"
      ]
     },
     "execution_count": 82,
     "metadata": {},
     "output_type": "execute_result"
    }
   ],
   "source": [
    "', '.join([str(client) for client in success_client])"
   ]
  },
  {
   "cell_type": "markdown",
   "metadata": {},
   "source": [
    "С какой платформы было совершено наибольшее количество успешных операций?\n",
    "\n",
    "- **Как решать это задание?**\n",
    "    \n",
    "    Отберите успешные операции с помощью `query`, проведите группировку по платформам, и посчитайте для каждой число успешных операций с помощью `count`. Далее найдите максимальное значение\n",
    "    \n",
    "- **Как понять, что операция успешна?**\n",
    "    \n",
    "    В колонке `success` будет `True`)\n",
    "    \n",
    "- **Как сравнивать в** `query` **с логическими значениями?**\n",
    "    \n",
    "    Чтобы сравнить в `query` с `True` или `False` нужно просто написать там нужно логическое значение. Например,\n",
    "    \n",
    "    ```python\n",
    "    df.query('column1 == True')\n",
    "    ```\n",
    "    \n",
    "    чтобы отобрать только строки, где в `column1` `True`\n",
    "    \n",
    "- **Как делать группировку?**\n",
    "    \n",
    "    Для этого существует метод `groupby` - его вызов группирует строки по значениям в какой-то колонке (или комбинации значений из нескольких колонок). Например\n",
    "    \n",
    "    ```python\n",
    "    df.groupby('pickup_month')\n",
    "    ```\n",
    "    \n",
    "    Сгруппирует данные датафрэйма `df` по колонке `pickup_month` - то есть строки с месяцем январь в колонке `pickup_month` будут в отдельной колонке от строк с месяцем май. Сама по себе группировка не вычисляет что-то по группам\n",
    "    \n",
    "- **Как сделать агрегацию?**\n",
    "    \n",
    "    Метод `agg` принимает словарь, где в качестве ключей указаны названия колонок, а значениями являются функции, которые нужно применить к колонке-ключу в каждой группе. К примеру, этот код\n",
    "    \n",
    "    ```python\n",
    "    df.groupby('pickup_month') \\\n",
    "    .agg({'temp': 'sum'})\n",
    "    ```\n",
    "    \n",
    "    Сгруппирует строки по значению в колонке `pickup_month` (месяц поездки) и посчитает в каждой группе сумму по колонке `temp`\n",
    "    \n",
    "- **Взятие максимума**\n",
    "    \n",
    "    Для этого используется метод `max`, который возвращает максимальное значение для каждой колонки в датафрэйме\n",
    "    \n",
    "- **Посмотреть разбор**\n",
    "    \n",
    "    Посмотреть разбор задания можно по ссылке [https://youtu.be/MdX8ezAr8-0](https://youtu.be/MdX8ezAr8-0)"
   ]
  },
  {
   "cell_type": "code",
   "execution_count": 91,
   "metadata": {},
   "outputs": [
    {
     "data": {
      "text/html": [
       "<div>\n",
       "<style scoped>\n",
       "    .dataframe tbody tr th:only-of-type {\n",
       "        vertical-align: middle;\n",
       "    }\n",
       "\n",
       "    .dataframe tbody tr th {\n",
       "        vertical-align: top;\n",
       "    }\n",
       "\n",
       "    .dataframe thead th {\n",
       "        text-align: right;\n",
       "    }\n",
       "</style>\n",
       "<table border=\"1\" class=\"dataframe\">\n",
       "  <thead>\n",
       "    <tr style=\"text-align: right;\">\n",
       "      <th></th>\n",
       "      <th>client</th>\n",
       "    </tr>\n",
       "    <tr>\n",
       "      <th>platform</th>\n",
       "      <th></th>\n",
       "    </tr>\n",
       "  </thead>\n",
       "  <tbody>\n",
       "    <tr>\n",
       "      <th>computer</th>\n",
       "      <td>55446768</td>\n",
       "    </tr>\n",
       "    <tr>\n",
       "      <th>phone</th>\n",
       "      <td>103307841</td>\n",
       "    </tr>\n",
       "    <tr>\n",
       "      <th>tablet</th>\n",
       "      <td>9111274</td>\n",
       "    </tr>\n",
       "  </tbody>\n",
       "</table>\n",
       "</div>"
      ],
      "text/plain": [
       "             client\n",
       "platform           \n",
       "computer   55446768\n",
       "phone     103307841\n",
       "tablet      9111274"
      ]
     },
     "execution_count": 91,
     "metadata": {},
     "output_type": "execute_result"
    }
   ],
   "source": [
    "lg.query('success == True')\\\n",
    "    .groupby('platform')\\\n",
    "    .agg({'client': 'sum'})"
   ]
  },
  {
   "cell_type": "code",
   "execution_count": 99,
   "metadata": {},
   "outputs": [
    {
     "data": {
      "text/plain": [
       "'phone'"
      ]
     },
     "execution_count": 99,
     "metadata": {},
     "output_type": "execute_result"
    }
   ],
   "source": [
    "lg.query('success == True').platform.value_counts().idxmax()"
   ]
  },
  {
   "cell_type": "markdown",
   "metadata": {},
   "source": [
    "Какую платформу предпочитают премиальные клиенты?\n",
    "\n",
    "- **Что делать в этом задании?**\n",
    "    \n",
    "    Объедините датафрэймы с клиентами и логами, затем отберите премиумных клиентов, возьмите колонку `platform` и посчитаете частоту использования с помощью `value_counts`\n",
    "    \n",
    "- **Как делать джойн**\n",
    "    \n",
    "    Для применения джойна по колонкам 2-ух датафрэймов используйте метод `merge`. Он принимает 2-ой датафрэйм. Также можно указать по какой колонке объединять и как. Например,\n",
    "    \n",
    "    ```python\n",
    "    df.merge(other_df, on='same_column', how='inner')\n",
    "    ```\n",
    "    \n",
    "    Где\n",
    "    \n",
    "    `other_df` - другой датафрэйм\n",
    "    \n",
    "    `on` - параметр, принимающий название общей колонки в 2-ух дф, по которой нужно объединять\n",
    "    \n",
    "    `how` - параметр, принимающий тип джойна\n",
    "    \n",
    "    То есть тут мы объединили `df` с `other_df` по колонке `same_column` иннер джойном\n",
    "    \n",
    "- **Как сравнивать в** `query` **с логическими значениями?**\n",
    "    \n",
    "    Чтобы сравнить в `query` с `True` или `False` нужно просто написать там нужно логическое значение. Например,\n",
    "    \n",
    "    ```python\n",
    "    df.query('column1 == True')\n",
    "    ```\n",
    "    \n",
    "    чтобы отобрать только строки, где в `column1` `True`\n",
    "    \n",
    "- **Посмотреть разбор**\n",
    "    \n",
    "    Посмотреть разбор задания можно по ссылке [https://youtu.be/PAIwFwrAsdk](https://youtu.be/PAIwFwrAsdk)"
   ]
  },
  {
   "cell_type": "code",
   "execution_count": 108,
   "metadata": {},
   "outputs": [
    {
     "data": {
      "text/plain": [
       "'phone'"
      ]
     },
     "execution_count": 108,
     "metadata": {},
     "output_type": "execute_result"
    }
   ],
   "source": [
    "us.merge(lg, on='client', how='inner')\\\n",
    "    .query('premium == True')\\\n",
    "    .aggregate('platform')\\\n",
    "    .value_counts()\\\n",
    "    .idxmax()"
   ]
  },
  {
   "cell_type": "code",
   "execution_count": 110,
   "metadata": {},
   "outputs": [],
   "source": [
    "data = us.merge(lg)"
   ]
  },
  {
   "cell_type": "code",
   "execution_count": 114,
   "metadata": {},
   "outputs": [
    {
     "data": {
      "text/plain": [
       "'phone'"
      ]
     },
     "execution_count": 114,
     "metadata": {},
     "output_type": "execute_result"
    }
   ],
   "source": [
    "data.query('premium == True').platform.value_counts().idxmax()"
   ]
  }
 ],
 "metadata": {
  "interpreter": {
   "hash": "065e90605cfcce3f6b184f06e002dbc1d2668e905f2650df26393167146d85db"
  },
  "kernelspec": {
   "display_name": "Python 3.9.10 ('Lengit-jxSgcill')",
   "language": "python",
   "name": "python3"
  },
  "language_info": {
   "codemirror_mode": {
    "name": "ipython",
    "version": 3
   },
   "file_extension": ".py",
   "mimetype": "text/x-python",
   "name": "python",
   "nbconvert_exporter": "python",
   "pygments_lexer": "ipython3",
   "version": "3.9.10"
  },
  "orig_nbformat": 4
 },
 "nbformat": 4,
 "nbformat_minor": 2
}
