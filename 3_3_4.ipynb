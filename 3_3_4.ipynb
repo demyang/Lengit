{
 "cells": [
  {
   "cell_type": "code",
   "execution_count": 6,
   "metadata": {},
   "outputs": [],
   "source": [
    "import pandas as pd"
   ]
  },
  {
   "cell_type": "markdown",
   "metadata": {},
   "source": [
    "*Задачи*\n",
    "Импортируйте библиотеку pandas как pd. Загрузите два датасета user_data и logs. Проверьте размер таблицы, типы переменных, наличие пропущенных значений, описательную статистику.\n",
    "Какой клиент совершил больше всего успешных операций? (success == True)\n",
    "С какой платформы осуществляется наибольшее количество успешных операций?\n",
    "Какую платформу предпочитают премиальные клиенты?\n",
    "Визуализируйте распределение возраста клиентов в зависимости от типа клиента (премиум или нет)\n",
    "Постройте график распределения числа успешных операций\n",
    "Визуализируйте число успешных операций, сделанных на платформе computer, в зависимости от возраста, используя sns.countplot (x – возраст, y – число успешных операций). Клиенты какого возраста совершили наибольшее количество успешных действий?\n",
    " \n",
    "\n",
    "Описание данных\n",
    "user_data:\n",
    "\n",
    "client – идентификатор пользователя\n",
    "premium – является ли клиент премиальным\n",
    "age – возраст\n",
    "logs:\n",
    "\n",
    "client – идентификатор пользователя\n",
    "success – результат (успех – 1, нет – 0)\n",
    "platform – платформа\n",
    "time – время в формате Unixl"
   ]
  },
  {
   "cell_type": "code",
   "execution_count": 7,
   "metadata": {},
   "outputs": [],
   "source": [
    "us = pd.read_csv(\n",
    "    'https://stepik.org/media/attachments/lesson/360348/user_data.csv')"
   ]
  },
  {
   "cell_type": "code",
   "execution_count": 8,
   "metadata": {},
   "outputs": [
    {
     "data": {
      "text/html": [
       "<div>\n",
       "<style scoped>\n",
       "    .dataframe tbody tr th:only-of-type {\n",
       "        vertical-align: middle;\n",
       "    }\n",
       "\n",
       "    .dataframe tbody tr th {\n",
       "        vertical-align: top;\n",
       "    }\n",
       "\n",
       "    .dataframe thead th {\n",
       "        text-align: right;\n",
       "    }\n",
       "</style>\n",
       "<table border=\"1\" class=\"dataframe\">\n",
       "  <thead>\n",
       "    <tr style=\"text-align: right;\">\n",
       "      <th></th>\n",
       "      <th>client</th>\n",
       "      <th>premium</th>\n",
       "      <th>age</th>\n",
       "    </tr>\n",
       "  </thead>\n",
       "  <tbody>\n",
       "    <tr>\n",
       "      <th>0</th>\n",
       "      <td>46346</td>\n",
       "      <td>False</td>\n",
       "      <td>58</td>\n",
       "    </tr>\n",
       "    <tr>\n",
       "      <th>1</th>\n",
       "      <td>4391</td>\n",
       "      <td>False</td>\n",
       "      <td>55</td>\n",
       "    </tr>\n",
       "    <tr>\n",
       "      <th>2</th>\n",
       "      <td>27372</td>\n",
       "      <td>False</td>\n",
       "      <td>64</td>\n",
       "    </tr>\n",
       "    <tr>\n",
       "      <th>3</th>\n",
       "      <td>11989</td>\n",
       "      <td>False</td>\n",
       "      <td>44</td>\n",
       "    </tr>\n",
       "    <tr>\n",
       "      <th>4</th>\n",
       "      <td>60664</td>\n",
       "      <td>False</td>\n",
       "      <td>49</td>\n",
       "    </tr>\n",
       "    <tr>\n",
       "      <th>...</th>\n",
       "      <td>...</td>\n",
       "      <td>...</td>\n",
       "      <td>...</td>\n",
       "    </tr>\n",
       "    <tr>\n",
       "      <th>2949</th>\n",
       "      <td>19411</td>\n",
       "      <td>False</td>\n",
       "      <td>29</td>\n",
       "    </tr>\n",
       "    <tr>\n",
       "      <th>2950</th>\n",
       "      <td>61579</td>\n",
       "      <td>False</td>\n",
       "      <td>50</td>\n",
       "    </tr>\n",
       "    <tr>\n",
       "      <th>2951</th>\n",
       "      <td>61221</td>\n",
       "      <td>True</td>\n",
       "      <td>64</td>\n",
       "    </tr>\n",
       "    <tr>\n",
       "      <th>2952</th>\n",
       "      <td>29863</td>\n",
       "      <td>False</td>\n",
       "      <td>46</td>\n",
       "    </tr>\n",
       "    <tr>\n",
       "      <th>2953</th>\n",
       "      <td>78499</td>\n",
       "      <td>False</td>\n",
       "      <td>36</td>\n",
       "    </tr>\n",
       "  </tbody>\n",
       "</table>\n",
       "<p>2954 rows × 3 columns</p>\n",
       "</div>"
      ],
      "text/plain": [
       "      client  premium  age\n",
       "0      46346    False   58\n",
       "1       4391    False   55\n",
       "2      27372    False   64\n",
       "3      11989    False   44\n",
       "4      60664    False   49\n",
       "...      ...      ...  ...\n",
       "2949   19411    False   29\n",
       "2950   61579    False   50\n",
       "2951   61221     True   64\n",
       "2952   29863    False   46\n",
       "2953   78499    False   36\n",
       "\n",
       "[2954 rows x 3 columns]"
      ]
     },
     "execution_count": 8,
     "metadata": {},
     "output_type": "execute_result"
    }
   ],
   "source": [
    "us.sort_index()"
   ]
  },
  {
   "cell_type": "code",
   "execution_count": 9,
   "metadata": {},
   "outputs": [],
   "source": [
    "lg = pd.read_csv('https://stepik.org/media/attachments/lesson/360348/logs.csv')"
   ]
  },
  {
   "cell_type": "code",
   "execution_count": 10,
   "metadata": {},
   "outputs": [
    {
     "data": {
      "text/html": [
       "<div>\n",
       "<style scoped>\n",
       "    .dataframe tbody tr th:only-of-type {\n",
       "        vertical-align: middle;\n",
       "    }\n",
       "\n",
       "    .dataframe tbody tr th {\n",
       "        vertical-align: top;\n",
       "    }\n",
       "\n",
       "    .dataframe thead th {\n",
       "        text-align: right;\n",
       "    }\n",
       "</style>\n",
       "<table border=\"1\" class=\"dataframe\">\n",
       "  <thead>\n",
       "    <tr style=\"text-align: right;\">\n",
       "      <th></th>\n",
       "      <th>client</th>\n",
       "      <th>success</th>\n",
       "      <th>platform</th>\n",
       "      <th>time</th>\n",
       "    </tr>\n",
       "  </thead>\n",
       "  <tbody>\n",
       "    <tr>\n",
       "      <th>0</th>\n",
       "      <td>40177</td>\n",
       "      <td>True</td>\n",
       "      <td>phone</td>\n",
       "      <td>1970-01-01 00:00:01.585412212</td>\n",
       "    </tr>\n",
       "    <tr>\n",
       "      <th>1</th>\n",
       "      <td>61468</td>\n",
       "      <td>True</td>\n",
       "      <td>phone</td>\n",
       "      <td>1970-01-01 00:00:01.585425658</td>\n",
       "    </tr>\n",
       "    <tr>\n",
       "      <th>2</th>\n",
       "      <td>35604</td>\n",
       "      <td>False</td>\n",
       "      <td>phone</td>\n",
       "      <td>1970-01-01 00:00:01.585459894</td>\n",
       "    </tr>\n",
       "    <tr>\n",
       "      <th>3</th>\n",
       "      <td>9961</td>\n",
       "      <td>True</td>\n",
       "      <td>phone</td>\n",
       "      <td>1970-01-01 00:00:01.585400189</td>\n",
       "    </tr>\n",
       "    <tr>\n",
       "      <th>4</th>\n",
       "      <td>10931</td>\n",
       "      <td>True</td>\n",
       "      <td>computer</td>\n",
       "      <td>1970-01-01 00:00:01.585468629</td>\n",
       "    </tr>\n",
       "  </tbody>\n",
       "</table>\n",
       "</div>"
      ],
      "text/plain": [
       "   client  success  platform                          time\n",
       "0   40177     True     phone 1970-01-01 00:00:01.585412212\n",
       "1   61468     True     phone 1970-01-01 00:00:01.585425658\n",
       "2   35604    False     phone 1970-01-01 00:00:01.585459894\n",
       "3    9961     True     phone 1970-01-01 00:00:01.585400189\n",
       "4   10931     True  computer 1970-01-01 00:00:01.585468629"
      ]
     },
     "execution_count": 10,
     "metadata": {},
     "output_type": "execute_result"
    }
   ],
   "source": [
    "lg['time'] = pd.to_datetime(lg['time'])\n",
    "lg.head()"
   ]
  },
  {
   "cell_type": "markdown",
   "metadata": {},
   "source": [
    "Импортируйте библиотеку pandas как pd. Загрузите два датасета user_data и logs. Проверьте размер таблицы, типы переменных, посмотрите на описательную статистику. \n",
    "\n",
    "Вопрос: Сколько уникальных значений принимает переменная platform?   -\n",
    " \n",
    " **Где взять данные?**\n",
    "    \n",
    "    Краткое напоминание - данные лежат на сервере в папках соответствующих уроку в `/shared/homeworks/python_ds_miniprojects`, либо их можно скачать по ссылке на 1-ом стэпе этой части упражнений\n",
    "    \n",
    "- **Как узнать число строк и столбцов в таблице**\n",
    "    \n",
    "    Чтобы узнать размер таблицы (датафрэйма), нужно обратиться к атрибуту `shape`\n",
    "    \n",
    "- **А что есть что в ответе от** `shape`**?**\n",
    "    \n",
    "    `shape` возвращает кортеж (упрощённый список, относитесь к нему, как к списку), где сначала идёт число строк, а потом число колонок\n",
    "    \n",
    "- **Как выяснить типы колонок?**\n",
    "    \n",
    "    Для этого нужен атрибут `dtypes`\n",
    "    \n",
    "- **Краткая сводка**\n",
    "    \n",
    "    Чтобы быстро взглянуть на информацию о распределении данных, можно использовать метод `describe`, например,\n",
    "    \n",
    "    ```python\n",
    "    df.describe()\n",
    "    ```\n",
    "    \n",
    "    Выведет эту информацию для колонок `df`\n",
    "    \n",
    "- **Подсчёт числа уникальных значений**\n",
    "    \n",
    "    Используйте метод `nunique`, чтобы получить число уникальных значений для каждой колонки датафрэйма\n",
    "    \n",
    "- **Посмотреть разбор**\n",
    "    \n",
    "    Посмотреть разбор задания можно по ссылке [https://youtu.be/Xkxdes5EdAk](https://youtu.be/Xkxdes5EdAk)"
   ]
  },
  {
   "cell_type": "code",
   "execution_count": 11,
   "metadata": {},
   "outputs": [
    {
     "data": {
      "text/plain": [
       "3"
      ]
     },
     "execution_count": 11,
     "metadata": {},
     "output_type": "execute_result"
    }
   ],
   "source": [
    "lg.platform.nunique()"
   ]
  },
  {
   "cell_type": "markdown",
   "metadata": {},
   "source": [
    "Какой клиент совершил больше всего успешных операций?\n",
    "\n",
    "Если несколько пользователей совершили одинаковое число успешных действий, перечислите их идентификаторы (client) через запятую и пробел в порядке возрастания. Например:\n",
    "\n",
    "12, 123, 456\n",
    "- **Как решить это задание?**\n",
    "    \n",
    "    Отберите успешные операции с помощью `query`, проведите группировку по клиентам, и посчитайте для каждого клиента число успешных операций с помощью `count`. Далее найдите максимальное значение и отберите всех клиентов с таким числом операций. После этого отсортируйте их `id` по возрастанию\n",
    "    \n",
    "- **Как понять, что операция успешна?**\n",
    "    \n",
    "    В колонке `success` будет `True`)\n",
    "    \n",
    "- **Как делать группировку?**\n",
    "    \n",
    "    Для этого существует метод `groupby` - его вызов группирует строки по значениям в какой-то колонке (или комбинации значений из нескольких колонок). Например\n",
    "    \n",
    "    ```python\n",
    "    df.groupby('pickup_month')\n",
    "    ```\n",
    "    \n",
    "    Сгруппирует данные датафрэйма `df` по колонке `pickup_month` - то есть строки с месяцем январь в колонке `pickup_month` будут в отдельной колонке от строк с месяцем май. Сама по себе группировка не вычисляет что-то по группам\n",
    "    \n",
    "- **Как сделать агрегацию?**\n",
    "    \n",
    "    Метод `agg` принимает словарь, где в качестве ключей указаны названия колонок, а значениями являются функции, которые нужно применить к колонке-ключу в каждой группе. К примеру, этот код\n",
    "    \n",
    "    ```python\n",
    "    df.groupby('pickup_month') \\\n",
    "    .agg({'temp': 'sum'})\n",
    "    ```\n",
    "    \n",
    "    Сгруппирует строки по значению в колонке `pickup_month` (месяц поездки) и посчитает в каждой группе сумму по колонке `temp`\n",
    "    \n",
    "- **Взятие максимума**\n",
    "    \n",
    "    Для этого используется метод `max`, который возвращает максимальное значение для каждой колонки в датафрэйме\n",
    "    \n",
    "- **Сортировка датафрэйма**\n",
    "    \n",
    "    Для сортировки датафрэйма используется метод `sort_values`. Он принимает название колонки, по которой будет идти сортировка. К примеру,\n",
    "    \n",
    "    ```python\n",
    "    df.sort_values('temp')\n",
    "    ```\n",
    "    \n",
    "    Сортирует строки по колонке `temp`\n",
    "    \n",
    "- **Сортировка серии**\n",
    "    \n",
    "    Если у вас серия, то при её сортировке не указывайте ничего в аргументах (так как есть только одни значения, по которым можно сортировать). Например,\n",
    "    \n",
    "    ```python\n",
    "    series.sort_values()\n",
    "    ```\n",
    "    \n",
    "    отсортирует `series`\n",
    "    \n",
    "- **Посмотреть разбор**\n",
    "    \n",
    "    Посмотреть разбор задания можно по ссылке [https://youtu.be/Y0HaHwsJCD4](https://youtu.be/Y0HaHwsJCD4)"
   ]
  },
  {
   "cell_type": "code",
   "execution_count": 12,
   "metadata": {},
   "outputs": [],
   "source": [
    "success_number = lg.groupby('client',as_index=False)\\\n",
    "                    .agg({'success': 'sum'})\\\n",
    "                    .rename(columns={'success': 'success_number'})\\\n",
    "                    .sort_values('success_number',ascending=False)\n",
    "                    "
   ]
  },
  {
   "cell_type": "code",
   "execution_count": 13,
   "metadata": {},
   "outputs": [],
   "source": [
    "maximum_success = success_number.success_number.max()"
   ]
  },
  {
   "cell_type": "code",
   "execution_count": 14,
   "metadata": {},
   "outputs": [],
   "source": [
    "success_client = success_number.query('success_number == @maximum_success')\\\n",
    "                                .sort_values('client')\\\n",
    "                                .client\\\n",
    "                                .tolist()             "
   ]
  },
  {
   "cell_type": "code",
   "execution_count": 15,
   "metadata": {},
   "outputs": [
    {
     "data": {
      "text/plain": [
       "[12179, 28719, 36165, 52870, 61468, 61473, 78349, 82563, 92584]"
      ]
     },
     "execution_count": 15,
     "metadata": {},
     "output_type": "execute_result"
    }
   ],
   "source": [
    "success_client"
   ]
  },
  {
   "cell_type": "code",
   "execution_count": 16,
   "metadata": {},
   "outputs": [
    {
     "data": {
      "text/plain": [
       "'12179, 28719, 36165, 52870, 61468, 61473, 78349, 82563, 92584'"
      ]
     },
     "execution_count": 16,
     "metadata": {},
     "output_type": "execute_result"
    }
   ],
   "source": [
    "', '.join([str(client) for client in success_client])"
   ]
  },
  {
   "cell_type": "markdown",
   "metadata": {},
   "source": [
    "С какой платформы было совершено наибольшее количество успешных операций?\n",
    "\n",
    "- **Как решать это задание?**\n",
    "    \n",
    "    Отберите успешные операции с помощью `query`, проведите группировку по платформам, и посчитайте для каждой число успешных операций с помощью `count`. Далее найдите максимальное значение\n",
    "    \n",
    "- **Как понять, что операция успешна?**\n",
    "    \n",
    "    В колонке `success` будет `True`)\n",
    "    \n",
    "- **Как сравнивать в** `query` **с логическими значениями?**\n",
    "    \n",
    "    Чтобы сравнить в `query` с `True` или `False` нужно просто написать там нужно логическое значение. Например,\n",
    "    \n",
    "    ```python\n",
    "    df.query('column1 == True')\n",
    "    ```\n",
    "    \n",
    "    чтобы отобрать только строки, где в `column1` `True`\n",
    "    \n",
    "- **Как делать группировку?**\n",
    "    \n",
    "    Для этого существует метод `groupby` - его вызов группирует строки по значениям в какой-то колонке (или комбинации значений из нескольких колонок). Например\n",
    "    \n",
    "    ```python\n",
    "    df.groupby('pickup_month')\n",
    "    ```\n",
    "    \n",
    "    Сгруппирует данные датафрэйма `df` по колонке `pickup_month` - то есть строки с месяцем январь в колонке `pickup_month` будут в отдельной колонке от строк с месяцем май. Сама по себе группировка не вычисляет что-то по группам\n",
    "    \n",
    "- **Как сделать агрегацию?**\n",
    "    \n",
    "    Метод `agg` принимает словарь, где в качестве ключей указаны названия колонок, а значениями являются функции, которые нужно применить к колонке-ключу в каждой группе. К примеру, этот код\n",
    "    \n",
    "    ```python\n",
    "    df.groupby('pickup_month') \\\n",
    "    .agg({'temp': 'sum'})\n",
    "    ```\n",
    "    \n",
    "    Сгруппирует строки по значению в колонке `pickup_month` (месяц поездки) и посчитает в каждой группе сумму по колонке `temp`\n",
    "    \n",
    "- **Взятие максимума**\n",
    "    \n",
    "    Для этого используется метод `max`, который возвращает максимальное значение для каждой колонки в датафрэйме\n",
    "    \n",
    "- **Посмотреть разбор**\n",
    "    \n",
    "    Посмотреть разбор задания можно по ссылке [https://youtu.be/MdX8ezAr8-0](https://youtu.be/MdX8ezAr8-0)"
   ]
  },
  {
   "cell_type": "code",
   "execution_count": 17,
   "metadata": {},
   "outputs": [
    {
     "data": {
      "text/html": [
       "<div>\n",
       "<style scoped>\n",
       "    .dataframe tbody tr th:only-of-type {\n",
       "        vertical-align: middle;\n",
       "    }\n",
       "\n",
       "    .dataframe tbody tr th {\n",
       "        vertical-align: top;\n",
       "    }\n",
       "\n",
       "    .dataframe thead th {\n",
       "        text-align: right;\n",
       "    }\n",
       "</style>\n",
       "<table border=\"1\" class=\"dataframe\">\n",
       "  <thead>\n",
       "    <tr style=\"text-align: right;\">\n",
       "      <th></th>\n",
       "      <th>client</th>\n",
       "    </tr>\n",
       "    <tr>\n",
       "      <th>platform</th>\n",
       "      <th></th>\n",
       "    </tr>\n",
       "  </thead>\n",
       "  <tbody>\n",
       "    <tr>\n",
       "      <th>computer</th>\n",
       "      <td>55446768</td>\n",
       "    </tr>\n",
       "    <tr>\n",
       "      <th>phone</th>\n",
       "      <td>103307841</td>\n",
       "    </tr>\n",
       "    <tr>\n",
       "      <th>tablet</th>\n",
       "      <td>9111274</td>\n",
       "    </tr>\n",
       "  </tbody>\n",
       "</table>\n",
       "</div>"
      ],
      "text/plain": [
       "             client\n",
       "platform           \n",
       "computer   55446768\n",
       "phone     103307841\n",
       "tablet      9111274"
      ]
     },
     "execution_count": 17,
     "metadata": {},
     "output_type": "execute_result"
    }
   ],
   "source": [
    "lg.query('success == True')\\\n",
    "    .groupby('platform')\\\n",
    "    .agg({'client': 'sum'})"
   ]
  },
  {
   "cell_type": "code",
   "execution_count": 18,
   "metadata": {},
   "outputs": [
    {
     "data": {
      "text/plain": [
       "'phone'"
      ]
     },
     "execution_count": 18,
     "metadata": {},
     "output_type": "execute_result"
    }
   ],
   "source": [
    "lg.query('success == True').platform.value_counts().idxmax()"
   ]
  },
  {
   "cell_type": "markdown",
   "metadata": {},
   "source": [
    "Какую платформу предпочитают премиальные клиенты?\n",
    "\n",
    "- **Что делать в этом задании?**\n",
    "    \n",
    "    Объедините датафрэймы с клиентами и логами, затем отберите премиумных клиентов, возьмите колонку `platform` и посчитаете частоту использования с помощью `value_counts`\n",
    "    \n",
    "- **Как делать джойн**\n",
    "    \n",
    "    Для применения джойна по колонкам 2-ух датафрэймов используйте метод `merge`. Он принимает 2-ой датафрэйм. Также можно указать по какой колонке объединять и как. Например,\n",
    "    \n",
    "    ```python\n",
    "    df.merge(other_df, on='same_column', how='inner')\n",
    "    ```\n",
    "    \n",
    "    Где\n",
    "    \n",
    "    `other_df` - другой датафрэйм\n",
    "    \n",
    "    `on` - параметр, принимающий название общей колонки в 2-ух дф, по которой нужно объединять\n",
    "    \n",
    "    `how` - параметр, принимающий тип джойна\n",
    "    \n",
    "    То есть тут мы объединили `df` с `other_df` по колонке `same_column` иннер джойном\n",
    "    \n",
    "- **Как сравнивать в** `query` **с логическими значениями?**\n",
    "    \n",
    "    Чтобы сравнить в `query` с `True` или `False` нужно просто написать там нужно логическое значение. Например,\n",
    "    \n",
    "    ```python\n",
    "    df.query('column1 == True')\n",
    "    ```\n",
    "    \n",
    "    чтобы отобрать только строки, где в `column1` `True`\n",
    "    \n",
    "- **Посмотреть разбор**\n",
    "    \n",
    "    Посмотреть разбор задания можно по ссылке [https://youtu.be/PAIwFwrAsdk](https://youtu.be/PAIwFwrAsdk)"
   ]
  },
  {
   "cell_type": "code",
   "execution_count": 19,
   "metadata": {},
   "outputs": [
    {
     "data": {
      "text/plain": [
       "'phone'"
      ]
     },
     "execution_count": 19,
     "metadata": {},
     "output_type": "execute_result"
    }
   ],
   "source": [
    "us.merge(lg, on='client', how='inner')\\\n",
    "    .query('premium == True')\\\n",
    "    .aggregate('platform')\\\n",
    "    .value_counts()\\\n",
    "    .idxmax()"
   ]
  },
  {
   "cell_type": "code",
   "execution_count": 20,
   "metadata": {},
   "outputs": [],
   "source": [
    "data = us.merge(lg)"
   ]
  },
  {
   "cell_type": "code",
   "execution_count": 21,
   "metadata": {},
   "outputs": [
    {
     "data": {
      "text/plain": [
       "'phone'"
      ]
     },
     "execution_count": 21,
     "metadata": {},
     "output_type": "execute_result"
    }
   ],
   "source": [
    "data.query('premium == True').platform.value_counts().idxmax()"
   ]
  },
  {
   "cell_type": "markdown",
   "metadata": {},
   "source": [
    "Визуализируйте распределение возраста клиентов в зависимости от типа клиента (премиум или нет), используя библиотеку seaborn с исходными параметрами. Какой график получится в результате?\n",
    "\n",
    "Используйте датасет, который вы получили на предыдущем шаге.\n",
    "\n",
    "- \n",
    "\n",
    "**Как визуализировать распределение?**\n",
    "    \n",
    "    Используйте функцию `sns.distplot`, которая принимает серию (колонку датафрэйма). К примеру,\n",
    "    \n",
    "    ```python\n",
    "    sns.distplot(df.column1)\n",
    "    ```\n",
    "    \n",
    "    Нарисует распределение значений из колонки `column1`\n",
    "    \n",
    "- **Как визуализировать 2 распределения на одной картинке?**\n",
    "    \n",
    "    Просто напишите 2 вызова `sns.distplot` на нужных данных в одной ячейке ноутбука. Например,\n",
    "    \n",
    "    ```python\n",
    "    sns.distplot(df.column1)\n",
    "    sns.distplot(df.column2)\n",
    "    ```\n",
    "    \n",
    "    Нарисует распределения значений из колонок `column1` и `column2`\n",
    "    \n",
    "- **Я выбираю правильный вариант, но он не засчитывается, почему?**\n",
    "    \n",
    "    Обратите внимание на цвета графика (при построении не меняйте настройки по умолчанию) - возможно дело в них\n",
    "    \n",
    "- **Посмотреть разбор**\n",
    "    \n",
    "    Посмотреть разбор задания можно по ссылке [https://youtu.be/2sIT4Lflrlg](https://youtu.be/2sIT4Lflrlg)"
   ]
  },
  {
   "cell_type": "code",
   "execution_count": 22,
   "metadata": {},
   "outputs": [],
   "source": [
    "import seaborn as sns\n",
    "# import matplotlib.pyplot as plt"
   ]
  },
  {
   "cell_type": "code",
   "execution_count": 24,
   "metadata": {},
   "outputs": [
    {
     "data": {
      "text/html": [
       "<div>\n",
       "<style scoped>\n",
       "    .dataframe tbody tr th:only-of-type {\n",
       "        vertical-align: middle;\n",
       "    }\n",
       "\n",
       "    .dataframe tbody tr th {\n",
       "        vertical-align: top;\n",
       "    }\n",
       "\n",
       "    .dataframe thead th {\n",
       "        text-align: right;\n",
       "    }\n",
       "</style>\n",
       "<table border=\"1\" class=\"dataframe\">\n",
       "  <thead>\n",
       "    <tr style=\"text-align: right;\">\n",
       "      <th></th>\n",
       "      <th>client</th>\n",
       "      <th>premium</th>\n",
       "      <th>age</th>\n",
       "      <th>success</th>\n",
       "      <th>platform</th>\n",
       "      <th>time</th>\n",
       "    </tr>\n",
       "  </thead>\n",
       "  <tbody>\n",
       "    <tr>\n",
       "      <th>0</th>\n",
       "      <td>46346</td>\n",
       "      <td>False</td>\n",
       "      <td>58</td>\n",
       "      <td>True</td>\n",
       "      <td>phone</td>\n",
       "      <td>1970-01-01 00:00:01.585452839</td>\n",
       "    </tr>\n",
       "    <tr>\n",
       "      <th>1</th>\n",
       "      <td>4391</td>\n",
       "      <td>False</td>\n",
       "      <td>55</td>\n",
       "      <td>False</td>\n",
       "      <td>phone</td>\n",
       "      <td>1970-01-01 00:00:01.585409861</td>\n",
       "    </tr>\n",
       "    <tr>\n",
       "      <th>2</th>\n",
       "      <td>27372</td>\n",
       "      <td>False</td>\n",
       "      <td>64</td>\n",
       "      <td>False</td>\n",
       "      <td>phone</td>\n",
       "      <td>1970-01-01 00:00:01.585446018</td>\n",
       "    </tr>\n",
       "    <tr>\n",
       "      <th>3</th>\n",
       "      <td>11989</td>\n",
       "      <td>False</td>\n",
       "      <td>44</td>\n",
       "      <td>True</td>\n",
       "      <td>computer</td>\n",
       "      <td>1970-01-01 00:00:01.585403698</td>\n",
       "    </tr>\n",
       "    <tr>\n",
       "      <th>4</th>\n",
       "      <td>60664</td>\n",
       "      <td>False</td>\n",
       "      <td>49</td>\n",
       "      <td>True</td>\n",
       "      <td>phone</td>\n",
       "      <td>1970-01-01 00:00:01.585406918</td>\n",
       "    </tr>\n",
       "  </tbody>\n",
       "</table>\n",
       "</div>"
      ],
      "text/plain": [
       "   client  premium  age  success  platform                          time\n",
       "0   46346    False   58     True     phone 1970-01-01 00:00:01.585452839\n",
       "1    4391    False   55    False     phone 1970-01-01 00:00:01.585409861\n",
       "2   27372    False   64    False     phone 1970-01-01 00:00:01.585446018\n",
       "3   11989    False   44     True  computer 1970-01-01 00:00:01.585403698\n",
       "4   60664    False   49     True     phone 1970-01-01 00:00:01.585406918"
      ]
     },
     "execution_count": 24,
     "metadata": {},
     "output_type": "execute_result"
    }
   ],
   "source": [
    "data.head()"
   ]
  },
  {
   "cell_type": "code",
   "execution_count": 25,
   "metadata": {},
   "outputs": [
    {
     "name": "stderr",
     "output_type": "stream",
     "text": [
      "C:\\Users\\Home\\.virtualenvs\\Lengit-jxSgcill\\lib\\site-packages\\seaborn\\distributions.py:2619: FutureWarning: `distplot` is a deprecated function and will be removed in a future version. Please adapt your code to use either `displot` (a figure-level function with similar flexibility) or `histplot` (an axes-level function for histograms).\n",
      "  warnings.warn(msg, FutureWarning)\n",
      "C:\\Users\\Home\\.virtualenvs\\Lengit-jxSgcill\\lib\\site-packages\\seaborn\\distributions.py:2619: FutureWarning: `distplot` is a deprecated function and will be removed in a future version. Please adapt your code to use either `displot` (a figure-level function with similar flexibility) or `histplot` (an axes-level function for histograms).\n",
      "  warnings.warn(msg, FutureWarning)\n"
     ]
    },
    {
     "data": {
      "text/plain": [
       "<AxesSubplot:xlabel='age', ylabel='Density'>"
      ]
     },
     "execution_count": 25,
     "metadata": {},
     "output_type": "execute_result"
    },
    {
     "data": {
      "image/png": "[encoded data removed]",
      "text/plain": [
       "<Figure size 432x288 with 1 Axes>"
      ]
     },
     "metadata": {
      "needs_background": "light"
     },
     "output_type": "display_data"
    }
   ],
   "source": [
    "sns.distplot(data.query(\"premium == False\").age)\n",
    "sns.distplot(data.query(\"premium == True\").age)"
   ]
  },
  {
   "cell_type": "code",
   "execution_count": 26,
   "metadata": {},
   "outputs": [],
   "source": [
    "import matplotlib.pyplot as plt"
   ]
  },
  {
   "cell_type": "code",
   "execution_count": 27,
   "metadata": {},
   "outputs": [
    {
     "name": "stderr",
     "output_type": "stream",
     "text": [
      "C:\\Users\\Home\\.virtualenvs\\Lengit-jxSgcill\\lib\\site-packages\\seaborn\\distributions.py:2619: FutureWarning: `distplot` is a deprecated function and will be removed in a future version. Please adapt your code to use either `displot` (a figure-level function with similar flexibility) or `histplot` (an axes-level function for histograms).\n",
      "  warnings.warn(msg, FutureWarning)\n",
      "C:\\Users\\Home\\.virtualenvs\\Lengit-jxSgcill\\lib\\site-packages\\seaborn\\distributions.py:2619: FutureWarning: `distplot` is a deprecated function and will be removed in a future version. Please adapt your code to use either `displot` (a figure-level function with similar flexibility) or `histplot` (an axes-level function for histograms).\n",
      "  warnings.warn(msg, FutureWarning)\n"
     ]
    },
    {
     "data": {
      "text/plain": [
       "<AxesSubplot:xlabel='age', ylabel='Density'>"
      ]
     },
     "execution_count": 27,
     "metadata": {},
     "output_type": "execute_result"
    },
    {
     "data": {
      "image/png": "[encoded data removed]",
      "text/plain": [
       "<Figure size 432x288 with 2 Axes>"
      ]
     },
     "metadata": {
      "needs_background": "light"
     },
     "output_type": "display_data"
    }
   ],
   "source": [
    "fig, ax = plt.subplots(nrows=2, ncols=1)\n",
    "\n",
    "sns.distplot(data.query(\"premium == False\").age, ax=ax[0], color='green')\n",
    "sns.distplot(data.query(\"premium == True\").age, ax=ax[1], color='purple')"
   ]
  },
  {
   "cell_type": "markdown",
   "metadata": {},
   "source": [
    "Постройте график распределения числа успешных операций: \n",
    "\n",
    "x – число успешных операций\n",
    "y – число клиентов, совершивших такое количество успешных операций\n",
    "\n",
    "- **Как делать это задание?**\n",
    "    \n",
    "    Сгруппируйте данные по клиентам и посчитайте число успешных операций. Далее постройте гистограмму распределения этой величины с помощью `sns.distplot`\n",
    "    \n",
    "- **Как делать группировку?**\n",
    "    \n",
    "    Для этого существует метод `groupby` - его вызов группирует строки по значениям в какой-то колонке (или комбинации значений из нескольких колонок). Например\n",
    "    \n",
    "    ```python\n",
    "    df.groupby('pickup_month')\n",
    "    ```\n",
    "    \n",
    "    Сгруппирует данные датафрэйма `df` по колонке `pickup_month` - то есть строки с месяцем январь в колонке `pickup_month` будут в отдельной колонке от строк с месяцем май. Сама по себе группировка не вычисляет что-то по группам\n",
    "    \n",
    "- **Как сделать агрегацию?**\n",
    "    \n",
    "    Метод `agg` принимает словарь, где в качестве ключей указаны названия колонок, а значениями являются функции, которые нужно применить к колонке-ключу в каждой группе. К примеру, этот код\n",
    "    \n",
    "    ```python\n",
    "    df.groupby('pickup_month') \\\n",
    "    .agg({'temp': 'sum'})\n",
    "    ```\n",
    "    \n",
    "    Сгруппирует строки по значению в колонке `pickup_month` (месяц поездки) и посчитает в каждой группе сумму по колонке `temp`\n",
    "    \n",
    "- **Как визуализировать распределение?**\n",
    "    \n",
    "    Используйте функцию `sns.distplot`, которая принимает серию (колонку датафрэйма). К примеру,\n",
    "    \n",
    "    ```python\n",
    "    sns.distplot(df.column1)\n",
    "    ```\n",
    "    \n",
    "    Нарисует распределение значений из колонки `column1`\n",
    "    \n",
    "- **Посмотреть разбор**\n",
    "    \n",
    "    Посмотреть разбор задания можно по ссылке [https://youtu.be/TssFs9fgOcU](https://youtu.be/TssFs9fgOcU)"
   ]
  },
  {
   "cell_type": "code",
   "execution_count": 41,
   "metadata": {},
   "outputs": [],
   "source": [
    "data_client = data.groupby('client')\\\n",
    "                  .agg({'success': 'sum'})"
   ]
  },
  {
   "cell_type": "code",
   "execution_count": 45,
   "metadata": {},
   "outputs": [
    {
     "data": {
      "text/plain": [
       "<seaborn.axisgrid.FacetGrid at 0x1ecbd2ce520>"
      ]
     },
     "execution_count": 45,
     "metadata": {},
     "output_type": "execute_result"
    },
    {
     "data": {
      "image/png": "[encoded data removed]",
      "text/plain": [
       "<Figure size 435.25x360 with 1 Axes>"
      ]
     },
     "metadata": {
      "needs_background": "light"
     },
     "output_type": "display_data"
    }
   ],
   "source": [
    "sns.displot(data_client,kde=False)"
   ]
  },
  {
   "cell_type": "code",
   "execution_count": 49,
   "metadata": {},
   "outputs": [
    {
     "data": {
      "text/plain": [
       "1     2051\n",
       "0      850\n",
       "2       42\n",
       "41       9\n",
       "40       1\n",
       "3        1\n",
       "Name: success, dtype: int64"
      ]
     },
     "execution_count": 49,
     "metadata": {},
     "output_type": "execute_result"
    }
   ],
   "source": [
    "data_client.success.value_counts()"
   ]
  },
  {
   "cell_type": "markdown",
   "metadata": {},
   "source": [
    "Визуализируйте число успешных операций, сделанных на платформе computer, в зависимости от возраста, используя sns.countplot. По оси x – возраст, по оси y – число успешных операций. Если размер графика получается небольшим, можно добавить plt.figure(figsize=(12, 8)) в начало соответствующей ячейки. \n",
    "\n",
    "Полезные ссылки:\n",
    "\n",
    "sns.countplot – документация к типу графика\n",
    "figsize – про размер графиков\n",
    "Вопрос: Клиенты какого возраста совершили наибольшее количество успешных действий?\n",
    "\n",
    "- **Как решать это задание?**\n",
    "    \n",
    "    Отберите только успешные операции, сделанные с платформы `computer`, потом используйте `sns.countplot` для визуализации зависимости числа успешных операций от возраста\n",
    "    \n",
    "- **Использование sns.countplot**\n",
    "    \n",
    "    `sns.countplot` принимает всего одну колонку. Он выступает как `value_counts` или группировка - объединяя одинаковые значения в группы и считая их размер. А затем он рисует барплот, где значение группы идёт по абсциссе, а размер группы - по ординате\n",
    "    \n",
    "- **Посмотреть разбор**\n",
    "    \n",
    "    Посмотреть разбор задания можно по ссылке [https://youtu.be/D3bCnCFczf8](https://youtu.be/D3bCnCFczf8)"
   ]
  },
  {
   "cell_type": "code",
   "execution_count": 62,
   "metadata": {},
   "outputs": [],
   "source": [
    "data_succes = data.query('success == True' and \"platform == 'computer'\")"
   ]
  },
  {
   "cell_type": "code",
   "execution_count": 64,
   "metadata": {},
   "outputs": [
    {
     "data": {
      "text/html": [
       "<div>\n",
       "<style scoped>\n",
       "    .dataframe tbody tr th:only-of-type {\n",
       "        vertical-align: middle;\n",
       "    }\n",
       "\n",
       "    .dataframe tbody tr th {\n",
       "        vertical-align: top;\n",
       "    }\n",
       "\n",
       "    .dataframe thead th {\n",
       "        text-align: right;\n",
       "    }\n",
       "</style>\n",
       "<table border=\"1\" class=\"dataframe\">\n",
       "  <thead>\n",
       "    <tr style=\"text-align: right;\">\n",
       "      <th></th>\n",
       "      <th>client</th>\n",
       "      <th>premium</th>\n",
       "      <th>age</th>\n",
       "      <th>success</th>\n",
       "      <th>platform</th>\n",
       "      <th>time</th>\n",
       "    </tr>\n",
       "  </thead>\n",
       "  <tbody>\n",
       "    <tr>\n",
       "      <th>3</th>\n",
       "      <td>11989</td>\n",
       "      <td>False</td>\n",
       "      <td>44</td>\n",
       "      <td>True</td>\n",
       "      <td>computer</td>\n",
       "      <td>1970-01-01 00:00:01.585403698</td>\n",
       "    </tr>\n",
       "    <tr>\n",
       "      <th>12</th>\n",
       "      <td>32406</td>\n",
       "      <td>False</td>\n",
       "      <td>24</td>\n",
       "      <td>True</td>\n",
       "      <td>computer</td>\n",
       "      <td>1970-01-01 00:00:01.585479382</td>\n",
       "    </tr>\n",
       "    <tr>\n",
       "      <th>14</th>\n",
       "      <td>62404</td>\n",
       "      <td>False</td>\n",
       "      <td>40</td>\n",
       "      <td>True</td>\n",
       "      <td>computer</td>\n",
       "      <td>1970-01-01 00:00:01.585430097</td>\n",
       "    </tr>\n",
       "    <tr>\n",
       "      <th>20</th>\n",
       "      <td>68848</td>\n",
       "      <td>False</td>\n",
       "      <td>35</td>\n",
       "      <td>True</td>\n",
       "      <td>computer</td>\n",
       "      <td>1970-01-01 00:00:01.585440553</td>\n",
       "    </tr>\n",
       "    <tr>\n",
       "      <th>23</th>\n",
       "      <td>74867</td>\n",
       "      <td>True</td>\n",
       "      <td>27</td>\n",
       "      <td>False</td>\n",
       "      <td>computer</td>\n",
       "      <td>1970-01-01 00:00:01.585452086</td>\n",
       "    </tr>\n",
       "    <tr>\n",
       "      <th>...</th>\n",
       "      <td>...</td>\n",
       "      <td>...</td>\n",
       "      <td>...</td>\n",
       "      <td>...</td>\n",
       "      <td>...</td>\n",
       "      <td>...</td>\n",
       "    </tr>\n",
       "    <tr>\n",
       "      <th>3415</th>\n",
       "      <td>13688</td>\n",
       "      <td>True</td>\n",
       "      <td>66</td>\n",
       "      <td>True</td>\n",
       "      <td>computer</td>\n",
       "      <td>1970-01-01 00:00:01.585453923</td>\n",
       "    </tr>\n",
       "    <tr>\n",
       "      <th>3417</th>\n",
       "      <td>68348</td>\n",
       "      <td>False</td>\n",
       "      <td>69</td>\n",
       "      <td>True</td>\n",
       "      <td>computer</td>\n",
       "      <td>1970-01-01 00:00:01.585456739</td>\n",
       "    </tr>\n",
       "    <tr>\n",
       "      <th>3427</th>\n",
       "      <td>9450</td>\n",
       "      <td>False</td>\n",
       "      <td>34</td>\n",
       "      <td>True</td>\n",
       "      <td>computer</td>\n",
       "      <td>1970-01-01 00:00:01.585446079</td>\n",
       "    </tr>\n",
       "    <tr>\n",
       "      <th>3430</th>\n",
       "      <td>61851</td>\n",
       "      <td>False</td>\n",
       "      <td>31</td>\n",
       "      <td>True</td>\n",
       "      <td>computer</td>\n",
       "      <td>1970-01-01 00:00:01.585473042</td>\n",
       "    </tr>\n",
       "    <tr>\n",
       "      <th>3433</th>\n",
       "      <td>27470</td>\n",
       "      <td>False</td>\n",
       "      <td>40</td>\n",
       "      <td>False</td>\n",
       "      <td>computer</td>\n",
       "      <td>1970-01-01 00:00:01.585443046</td>\n",
       "    </tr>\n",
       "  </tbody>\n",
       "</table>\n",
       "<p>1140 rows × 6 columns</p>\n",
       "</div>"
      ],
      "text/plain": [
       "      client  premium  age  success  platform                          time\n",
       "3      11989    False   44     True  computer 1970-01-01 00:00:01.585403698\n",
       "12     32406    False   24     True  computer 1970-01-01 00:00:01.585479382\n",
       "14     62404    False   40     True  computer 1970-01-01 00:00:01.585430097\n",
       "20     68848    False   35     True  computer 1970-01-01 00:00:01.585440553\n",
       "23     74867     True   27    False  computer 1970-01-01 00:00:01.585452086\n",
       "...      ...      ...  ...      ...       ...                           ...\n",
       "3415   13688     True   66     True  computer 1970-01-01 00:00:01.585453923\n",
       "3417   68348    False   69     True  computer 1970-01-01 00:00:01.585456739\n",
       "3427    9450    False   34     True  computer 1970-01-01 00:00:01.585446079\n",
       "3430   61851    False   31     True  computer 1970-01-01 00:00:01.585473042\n",
       "3433   27470    False   40    False  computer 1970-01-01 00:00:01.585443046\n",
       "\n",
       "[1140 rows x 6 columns]"
      ]
     },
     "execution_count": 64,
     "metadata": {},
     "output_type": "execute_result"
    }
   ],
   "source": [
    "data_succes"
   ]
  },
  {
   "cell_type": "code",
   "execution_count": 68,
   "metadata": {},
   "outputs": [
    {
     "name": "stderr",
     "output_type": "stream",
     "text": [
      "C:\\Users\\Home\\.virtualenvs\\Lengit-jxSgcill\\lib\\site-packages\\seaborn\\_decorators.py:36: FutureWarning: Pass the following variable as a keyword arg: x. From version 0.12, the only valid positional argument will be `data`, and passing other arguments without an explicit keyword will result in an error or misinterpretation.\n",
      "  warnings.warn(\n"
     ]
    },
    {
     "data": {
      "text/plain": [
       "<AxesSubplot:xlabel='age', ylabel='count'>"
      ]
     },
     "execution_count": 68,
     "metadata": {},
     "output_type": "execute_result"
    },
    {
     "data": {
      "image/png": "[encoded data removed]",
      "text/plain": [
       "<Figure size 864x576 with 1 Axes>"
      ]
     },
     "metadata": {
      "needs_background": "light"
     },
     "output_type": "display_data"
    }
   ],
   "source": [
    "plt.figure(figsize=(12, 8))\n",
    "sns.countplot(data_succes.age)"
   ]
  }
 ],
 "metadata": {
  "interpreter": {
   "hash": "065e90605cfcce3f6b184f06e002dbc1d2668e905f2650df26393167146d85db"
  },
  "kernelspec": {
   "display_name": "Python 3.9.10 ('Lengit-jxSgcill')",
   "language": "python",
   "name": "python3"
  },
  "language_info": {
   "codemirror_mode": {
    "name": "ipython",
    "version": 3
   },
   "file_extension": ".py",
   "mimetype": "text/x-python",
   "name": "python",
   "nbconvert_exporter": "python",
   "pygments_lexer": "ipython3",
   "version": "3.9.10"
  },
  "orig_nbformat": 4
 },
 "nbformat": 4,
 "nbformat_minor": 2
}
